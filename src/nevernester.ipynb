{
 "cells": [
  {
   "cell_type": "code",
   "execution_count": 1,
   "metadata": {},
   "outputs": [
    {
     "data": {
      "text/plain": [
       "[{'id': '9b0eff41-1ff2-4f8f-937c-ffc436ed9c4e',\n",
       "  'nodeType': 'input',\n",
       "  'data': {'text': 'Hilary'},\n",
       "  'pointingTo': ['290ab4f2-4624-4894-b337-91b12fd60dc3']},\n",
       " {'id': 'b2da3bc2-eabb-4869-9af9-b38c86e01f69',\n",
       "  'nodeType': 'input',\n",
       "  'data': {'text': 'Jordan'},\n",
       "  'pointingTo': ['290ab4f2-4624-4894-b337-91b12fd60dc3']},\n",
       " {'id': '290ab4f2-4624-4894-b337-91b12fd60dc3',\n",
       "  'nodeType': 'generate',\n",
       "  'data': {'text': 'convert {} and {} into one json'},\n",
       "  'pointedBy': ['9b0eff41-1ff2-4f8f-937c-ffc436ed9c4e',\n",
       "   'b2da3bc2-eabb-4869-9af9-b38c86e01f69'],\n",
       "  'pointingTo': ['85e3cf82-aa1f-4c35-a67d-7fc13164f9df']},\n",
       " {'id': '51308df1-7782-4cbf-a8db-980195a3c192',\n",
       "  'nodeType': 'output',\n",
       "  'data': {'text': ''},\n",
       "  'pointedBy': ['85e3cf82-aa1f-4c35-a67d-7fc13164f9df']},\n",
       " {'id': '85e3cf82-aa1f-4c35-a67d-7fc13164f9df',\n",
       "  'nodeType': 'generate',\n",
       "  'data': {'text': 'review and add other data to {}'},\n",
       "  'pointedBy': ['290ab4f2-4624-4894-b337-91b12fd60dc3'],\n",
       "  'pointingTo': ['51308df1-7782-4cbf-a8db-980195a3c192']}]"
      ]
     },
     "execution_count": 1,
     "metadata": {},
     "output_type": "execute_result"
    }
   ],
   "source": [
    "import json\n",
    "graph_nodes = json.loads(open('tst.json', 'r').read())['data']\n",
    "graph_nodes"
   ]
  },
  {
   "cell_type": "code",
   "execution_count": 2,
   "metadata": {},
   "outputs": [],
   "source": [
    "# map_of_nodes - holds all nodes with all data from graph source of all information\n",
    "# nodes_to_execute - holds nodes \"id\" that are curently loadaed to be processed or wait until resolve earlier and then starts preocessing \n",
    "# map_of_processed_nodes - holds only output of llm\n",
    "\n",
    "# for start of resolving loop\n",
    "nodes_to_execute = [x['id'] for x in graph_nodes if 'pointedBy' not in x.keys()]\n",
    "executed_nodes_in_iteration = []\n",
    "# add all input nodes\n",
    "executed_nodes_in_iteration.extend(nodes_to_execute)\n",
    "\n",
    "# for easy access by pointing id\n",
    "map_of_nodes = {}\n",
    "for x in graph_nodes:\n",
    "    map_of_nodes[x['id']] = x\n",
    "\n",
    "map_of_processed_nodes = {}\n",
    "# pass input nodes data straight to context\n",
    "for x in nodes_to_execute:\n",
    "    map_of_processed_nodes[x] = map_of_nodes[x]\n",
    "\n",
    "import logging\n",
    "logger = logging.getLogger(__name__)"
   ]
  },
  {
   "cell_type": "code",
   "execution_count": 3,
   "metadata": {},
   "outputs": [
    {
     "name": "stdout",
     "output_type": "stream",
     "text": [
      "9b0eff41-1ff2-4f8f-937c-ffc436ed9c4e\n",
      "b2da3bc2-eabb-4869-9af9-b38c86e01f69\n",
      "290ab4f2-4624-4894-b337-91b12fd60dc3\n",
      "convert Hilary and Jordan into one json\n",
      "85e3cf82-aa1f-4c35-a67d-7fc13164f9df\n",
      "review and add other data to convert Hilary and Jordan into one json\n",
      "51308df1-7782-4cbf-a8db-980195a3c192\n"
     ]
    }
   ],
   "source": [
    "number_of_loops = 0    \n",
    "while len(map_of_processed_nodes.keys()) != len(map_of_nodes.keys()):\n",
    "    for node_id in nodes_to_execute:\n",
    "        print(node_id)\n",
    "        keys = map_of_processed_nodes.keys()\n",
    "        if map_of_nodes[node_id]['nodeType'] == \"generate\" and  all(key in keys  for key in map_of_nodes[node_id]['pointedBy']):\n",
    "            # ducktape prompt context\n",
    "            prompt = map_of_nodes[node_id]['data']['text']\n",
    "            context = [node for node in map_of_nodes[node_id]['pointedBy']]\n",
    "            context = [map_of_processed_nodes[idx] for idx in context]\n",
    "            prompt = prompt.format(*context)\n",
    "            print(prompt)\n",
    "            map_of_processed_nodes[node_id] = prompt\n",
    "        else:        \n",
    "            map_of_processed_nodes[node_id] = map_of_nodes[node_id]['data']['text']\n",
    "        executed_nodes_in_iteration.append(node_id)\n",
    "        if (map_of_nodes[node_id]['nodeType'] != 'output'):\n",
    "            nodes_to_execute.extend(map_of_nodes[node_id]['pointingTo'])\n",
    "        # logger.info(\"Processing node with id:\", node_id)\n",
    "        nodes_to_execute = list(set(nodes_to_execute) - set(executed_nodes_in_iteration))\n",
    "        executed_nodes_in_iteration = []\n",
    "   "
   ]
  }
 ],
 "metadata": {
  "kernelspec": {
   "display_name": "Python 3",
   "language": "python",
   "name": "python3"
  },
  "language_info": {
   "codemirror_mode": {
    "name": "ipython",
    "version": 3
   },
   "file_extension": ".py",
   "mimetype": "text/x-python",
   "name": "python",
   "nbconvert_exporter": "python",
   "pygments_lexer": "ipython3",
   "version": "3.10.12"
  }
 },
 "nbformat": 4,
 "nbformat_minor": 2
}
